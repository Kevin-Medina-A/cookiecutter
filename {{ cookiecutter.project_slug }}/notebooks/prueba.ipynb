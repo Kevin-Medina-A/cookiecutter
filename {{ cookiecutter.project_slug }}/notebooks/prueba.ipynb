{
 "cells": [
  {
   "cell_type": "code",
   "execution_count": null,
   "id": "c7562d38",
   "metadata": {
    "vscode": {
     "languageId": "plaintext"
    }
   },
   "outputs": [],
   "source": [
    "import sys\n",
    "from pathlib import Path\n",
    "import pandas as pd\n",
    "\n",
    "sys.path.append(str(Path().resolve().parents[0]))\n",
    "\n",
    "from paths import RAW_DIR\n",
    "\n",
    "archivo = RAW_DIR / \"ARCHIVO.csv\" #ESTE .CSV DEBE ESTAR EN data/raw/archivo.csv\n",
    "df = pd.read_csv(archivo)\n",
    "df.head(10)"
   ]
  }
 ],
 "metadata": {
  "language_info": {
   "name": "python"
  }
 },
 "nbformat": 4,
 "nbformat_minor": 5
}
